{
 "cells": [
  {
   "cell_type": "code",
   "execution_count": 1,
   "metadata": {},
   "outputs": [
    {
     "name": "stdout",
     "output_type": "stream",
     "text": [
      "actual test data sets labels\n",
      "[' MCI', ' MCI', ' MCI', ' MCI', ' MCI', ' Control', ' MCI', ' Control', ' MCI', ' Control']\n",
      "predicted labels by the model\n",
      "[' MCI' ' Control' ' MCI' ' Control' ' MCI' ' Control' ' MCI' ' MCI' ' MCI'\n",
      " ' Control']\n"
     ]
    },
    {
     "data": {
      "text/plain": [
       "70.0"
      ]
     },
     "execution_count": 1,
     "metadata": {},
     "output_type": "execute_result"
    }
   ],
   "source": [
    "#Using sklearn.tree \n",
    "import pandas as pd\n",
    "\n",
    "original_training=pd.read_csv(\".\\\\MCIvsHCWav.csv\")\n",
    "original_training.head(10)\n",
    "\n",
    "X=original_training.copy()\n",
    "#the 'class' key has a starting empty space char appended to it thats why the key error \n",
    "del X[' class']\n",
    "del X['experiment']\n",
    "\n",
    "y = []\n",
    "\n",
    "for data in original_training [' class']:\n",
    "    y.append(data)\n",
    "    \n",
    "# import desiciontree classifier\n",
    "from sklearn.tree import DecisionTreeClassifier  \n",
    "clf = DecisionTreeClassifier()  \n",
    "clf.fit(X.abs(),y) \n",
    "\n",
    "test_data= pd.read_csv(\".\\\\MCIvsHCWav_test.csv\")\n",
    "X_test=test_data.copy()\n",
    "del X_test[' class']\n",
    "del X_test['experiment']\n",
    "X_test.head(8)\n",
    "Y_test=[]\n",
    "for t_data in test_data [' class']:\n",
    "    Y_test.append(t_data)\n",
    "print('actual test data sets labels')\n",
    "print(Y_test)    \n",
    "\n",
    "print('predicted labels by the model')\n",
    "print(clf.predict(X_test))\n",
    "\n",
    "from sklearn.metrics import accuracy_score\n",
    "\n",
    "accuracy_score(Y_test, clf.predict(X_test))*100\n",
    "\n"
   ]
  },
  {
   "cell_type": "code",
   "execution_count": null,
   "metadata": {
    "collapsed": true
   },
   "outputs": [],
   "source": []
  }
 ],
 "metadata": {
  "kernelspec": {
   "display_name": "Python 3",
   "language": "python",
   "name": "python3"
  },
  "language_info": {
   "codemirror_mode": {
    "name": "ipython",
    "version": 3
   },
   "file_extension": ".py",
   "mimetype": "text/x-python",
   "name": "python",
   "nbconvert_exporter": "python",
   "pygments_lexer": "ipython3",
   "version": "3.6.2"
  }
 },
 "nbformat": 4,
 "nbformat_minor": 2
}
