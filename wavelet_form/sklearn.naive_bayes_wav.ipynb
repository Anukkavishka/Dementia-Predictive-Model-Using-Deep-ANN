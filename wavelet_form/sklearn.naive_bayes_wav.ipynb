{
 "cells": [
  {
   "cell_type": "code",
   "execution_count": 1,
   "metadata": {},
   "outputs": [
    {
     "name": "stdout",
     "output_type": "stream",
     "text": [
      "actual test data sets labels\n",
      "[' MCI', ' MCI', ' MCI', ' MCI', ' MCI', ' Control', ' MCI', ' Control', ' MCI', ' Control']\n",
      "predicted labels by the model\n",
      "[' Control' ' Control' ' Control' ' Control' ' Control' ' Control'\n",
      " ' Control' ' Control' ' Control' ' Control']\n"
     ]
    },
    {
     "data": {
      "text/plain": [
       "30.0"
      ]
     },
     "execution_count": 1,
     "metadata": {},
     "output_type": "execute_result"
    }
   ],
   "source": [
    "#Using the sklearn.naive_bayes algorithm with the three models\n",
    "import pandas as pd\n",
    "\n",
    "#Allocating csv of the training data set\n",
    "original_training=pd.read_csv(\".\\\\MCIvsHCWav.csv\")\n",
    "\n",
    "original_training.head(10)\n",
    "\n",
    "#Allocate a copy of training dataset to X\n",
    "X=original_training.copy()\n",
    "\n",
    "#Remove first and last columns\n",
    "del X[' class']\n",
    "del X['experiment']\n",
    "\n",
    "#Allocate empty array to Y \n",
    "y = []\n",
    "\n",
    "#Append last column[Actual output] of the dataset to Y\n",
    "for data in original_training [' class']:\n",
    "    y.append(data)\n",
    "\n",
    "#BernoulliNB() --> 0.9090 of accuracy\n",
    "#MultinomialNB() --> 0.4545 of accuracy\n",
    "#GaussianNB() --> 0.0909 of accuracy\n",
    "from sklearn.naive_bayes import BernoulliNB\n",
    "clf=BernoulliNB()\n",
    "\n",
    "#Train the dataset\n",
    "clf.fit(X.abs(),y)\n",
    "\n",
    "#Allocating csv of the testing data set\n",
    "test_data= pd.read_csv(\".\\\\MCIvsHCWav_test.csv\")\n",
    "\n",
    "#Allocate a copy of testing dataset to X_test\n",
    "X_test=test_data.copy()\n",
    "\n",
    "#Remove first and last columns\n",
    "del X_test[' class']\n",
    "del X_test['experiment']\n",
    "\n",
    "X_test.head(8)\n",
    " \n",
    "#Allocate empty array to Y_test and allocate the last column of the training dataset\n",
    "Y_test=[]\n",
    "for t_data in test_data [' class']:\n",
    "    Y_test.append(t_data)\n",
    "\n",
    "\n",
    "print('actual test data sets labels')\n",
    "print(Y_test)    \n",
    "\n",
    "print('predicted labels by the model')\n",
    "print(clf.predict(X_test))\n",
    "\n",
    "from sklearn.metrics import accuracy_score\n",
    "\n",
    "accuracy_score(Y_test, clf.predict(X_test))*100\n"
   ]
  },
  {
   "cell_type": "code",
   "execution_count": null,
   "metadata": {
    "collapsed": true
   },
   "outputs": [],
   "source": []
  }
 ],
 "metadata": {
  "kernelspec": {
   "display_name": "Python 3",
   "language": "python",
   "name": "python3"
  },
  "language_info": {
   "codemirror_mode": {
    "name": "ipython",
    "version": 3
   },
   "file_extension": ".py",
   "mimetype": "text/x-python",
   "name": "python",
   "nbconvert_exporter": "python",
   "pygments_lexer": "ipython3",
   "version": "3.6.2"
  }
 },
 "nbformat": 4,
 "nbformat_minor": 2
}
